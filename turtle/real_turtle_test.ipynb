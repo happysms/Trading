{
 "cells": [
  {
   "cell_type": "code",
   "execution_count": 197,
   "metadata": {
    "ExecuteTime": {
     "end_time": "2021-11-15T09:29:51.176866Z",
     "start_time": "2021-11-15T09:29:51.173716Z"
    }
   },
   "outputs": [],
   "source": [
    "import pyupbit\n",
    "import pandas as pd\n",
    "import numpy as np\n",
    "import warnings\n",
    "import matplotlib.pyplot as plt\n",
    "from functools import reduce\n",
    "\n",
    "pd.set_option('display.max_row', 1460)\n",
    "pd.set_option('display.max_columns', 100)\n",
    "warnings.filterwarnings(action='ignore')"
   ]
  },
  {
   "cell_type": "code",
   "execution_count": 215,
   "metadata": {
    "ExecuteTime": {
     "end_time": "2021-11-15T09:47:35.923939Z",
     "start_time": "2021-11-15T09:47:35.907699Z"
    },
    "code_folding": []
   },
   "outputs": [],
   "source": [
    "def get_high_price(df, idx, term): \n",
    "    test_price = df.iloc[idx].high\n",
    "    df_test = df[idx - term: idx].high\n",
    "    price_ordering = []\n",
    "    \n",
    "    for price in df_test:\n",
    "        if price > test_price:\n",
    "            return False\n",
    "        \n",
    "        price_ordering.append(price)\n",
    "        \n",
    "    return max(price_ordering)\n",
    "\n",
    "\n",
    "def get_low_price(df, idx, term):\n",
    "    test_price = df.iloc[idx].low\n",
    "    df_test = df[idx - term: idx].low\n",
    "    price_ordering = []\n",
    "\n",
    "    for price in df_test:\n",
    "        if price < test_price:\n",
    "            return False\n",
    "\n",
    "        price_ordering.append(price)\n",
    "\n",
    "    return min(price_ordering)\n",
    "\n",
    "    \n",
    "\n",
    "def exit_position(df, position, idx, term):\n",
    "    exit_price = None\n",
    "    if position == 1:\n",
    "        exit_price = get_low_price(df, idx, term)\n",
    "        \n",
    "    elif position == 2:\n",
    "        exit_price = get_high_price(df, idx, term)\n",
    "    \n",
    "    return exit_price\n",
    "\n",
    "\n",
    "def set_return_rate(x):\n",
    "    result = None\n",
    "\n",
    "    if x.position == 1:\n",
    "        if x.position_price:\n",
    "            result = (x.close / x.position_price)\n",
    "        else:\n",
    "            result = x.close / x.open\n",
    "            \n",
    "    elif x.position == 2:\n",
    "        if x.position_price:\n",
    "            result = x.position_price / x.close \n",
    "        else:\n",
    "            result = x.open / x.close\n",
    "    else:\n",
    "        result = 1\n",
    "        \n",
    "    return result\n",
    "\n",
    "\n",
    "def each_turtle_backtest(ticker, to, count, enter_term, exit_term):\n",
    "    df = pyupbit.get_ohlcv(ticker=ticker, interval=\"1d\", to=to, count=count)\n",
    "\n",
    "    position = 0\n",
    "    position_list = []\n",
    "    position_price_list = []\n",
    "\n",
    "    for idx, data in enumerate(df.itertuples()):\n",
    "        if idx < params[-1][0]:\n",
    "            position_list.append(position)\n",
    "            position_price_list.append(None) \n",
    "            continue\n",
    "\n",
    "        elif position:\n",
    "            if result:= exit_position(df, position, idx, exit_term):\n",
    "                position = 0\n",
    "                position_list.append(position)\n",
    "                position_price_list.append(result)\n",
    "\n",
    "            else:\n",
    "                position_list.append(position)\n",
    "                position_price_list.append(None)\n",
    "\n",
    "        else: \n",
    "            if result := get_high_price(df, idx, enter_term):\n",
    "                position = 1\n",
    "                position_list.append(position)\n",
    "                position_price_list.append(result)\n",
    "\n",
    "            elif result := get_low_price(df, idx, enter_term):\n",
    "                position = 2\n",
    "                position_list.append(position)\n",
    "                position_price_list.append(result)\n",
    "            else:\n",
    "                position_list.append(position)\n",
    "                position_price_list.append(None)\n",
    "\n",
    "    df['position'] = position_list\n",
    "    df['position_price'] =position_price_list\n",
    "    df = df.replace(np.nan, 0, regex=True)\n",
    "    daily_rr = list(map(lambda x: set_return_rate(x), df.itertuples()))\n",
    "    df['daily_rr'] = daily_rr\n",
    "    \n",
    "    df['daily_rr'] = np.where((df['position_price'] != 0) & (df['position'].shift(1) == 1), \n",
    "                              df['position_price'] / df['open'],\n",
    "                              df['daily_rr']\n",
    "                             )\n",
    "    \n",
    "    df['daily_rr'] = np.where((df['position_price'] != 0) & (df['position'].shift(1) == 2), \n",
    "                              df['open'] / df['position_price'],\n",
    "                              df['daily_rr']\n",
    "                             )\n",
    "    \n",
    "    df = df.fillna(method='ffill')\n",
    "    df = df.fillna(1)\n",
    "    df['hpr'] = df['daily_rr'].cumprod()\n",
    "    df['nr'] = df['close'] / df['open'] # normal rate\n",
    "    df['n_hpr'] = df['nr'].cumprod() \n",
    "    df['mdd'] = (df['hpr'].cummax() - df['hpr']) / df['hpr'].cummax() * 100 \n",
    "    df['n_mdd'] = (df['n_hpr'].cummax() - df['n_hpr']) / df['n_hpr'].cummax() * 100\n",
    "    df['name'] = list(map(lambda x: ticker.replace(\"KRW-\", \"\"), df.itertuples()))\n",
    "    \n",
    "    \n",
    "    param_result = {\"enter_param\": enter_term, \n",
    "                    \"exit_param\": exit_term, \n",
    "                    \"mdd\": round(df['mdd'].max(), 2), \n",
    "                    \"hpr\": round(df['hpr'].iloc[-1] * 100, 2)}\n",
    "    \n",
    "    return param_result, df\n",
    "\n",
    "\n",
    "def turtle_backtest(ticker, to, count, params):\n",
    "    df = pyupbit.get_ohlcv(ticker=ticker, interval=\"1d\", to=to, count=count)\n",
    "    result = []\n",
    "\n",
    "    for enter_term, exit_term in params:\n",
    "        param_result, df = each_turtle_backtest(ticker, to, count, enter_term, exit_term)\n",
    "        result.append((param_result, df))\n",
    "        \n",
    "    return result\n",
    "\n",
    "\n",
    "def get_selected_df_backtest(selected_list, to, count):\n",
    "    result = []\n",
    "    \n",
    "    for ticker, enter_term, exit_term in selected_list:\n",
    "        df = each_turtle_backtest(ticker, to, count, enter_term, exit_term)[1]\n",
    "        result.append(df)\n",
    "    \n",
    "    return result\n",
    "\n",
    "\n",
    "def visualize(df):\n",
    "    plt.figure(figsize = (20, 8))\n",
    "    plt.plot(df.index, df['hpr']*100, color = 'r')\n",
    "    plt.plot(df.index, df['n_hpr']*100, color = 'k', linestyle = '--')    \n",
    "    plt.legend(loc='best')\n",
    "    plt.title(f\"mdd: {round(df['mdd'].max(), 2)}\\\n",
    "                return_rate: {round(df['hpr'].iloc[-1] * 100, 2)}%\")\n",
    "    plt.ylabel(\"rate of return\")\n",
    "    plt.grid(True)\n",
    "    plt.show()\n",
    "    \n",
    "\n",
    "def visualize_merge_df(df):\n",
    "    plt.figure(figsize = (20, 8))\n",
    "    plt.plot(df.index, df['avg_hpr']*100, color = 'r')   \n",
    "    plt.legend(loc='best')\n",
    "    plt.title(f\"mdd: {round(df['avg_mdd'].max(), 2)}\\\n",
    "                return_rate: {round(df['avg_hpr'].iloc[-1] * 100, 2)}%\")\n",
    "    plt.ylabel(\"rate of return\")\n",
    "    plt.grid(True)\n",
    "    plt.show()\n",
    "    \n",
    "    \n",
    "def merge_df(dfs):\n",
    "    def correct_df(df):\n",
    "        columns = df.columns\n",
    "        correct_columns = list(map(lambda x: x + \"_\" + df.iloc[0][\"name\"], columns))\n",
    "        df.columns = correct_columns\n",
    "        df['datetime'] = df.index\n",
    "        return df\n",
    "    \n",
    "    def filter_hpr(x):\n",
    "        return x.find(\"hpr\") != -1 and x.find(\"n_hpr\") == -1\n",
    "    \n",
    "    dfs = list(map(lambda df: correct_df(df), dfs))\n",
    "    df_merge = reduce(lambda left, right: pd.merge(left, right, on='datetime'), dfs)\n",
    "    hpr_columns = list(filter(filter_hpr, df_merge.columns))\n",
    "    \n",
    "    avg_hpr_list = []\n",
    "    \n",
    "    for hpr in df_merge[hpr_columns].itertuples():\n",
    "        avg_hpr_list.append((sum(hpr[1:])/ len(hpr[1:])))\n",
    "    \n",
    "    df_merge['avg_hpr'] = avg_hpr_list\n",
    "    df_merge['avg_mdd'] = (df_merge['avg_hpr'].cummax() - df_merge['avg_hpr']) / df_merge['avg_hpr'].cummax() * 100\n",
    "    return df_merge"
   ]
  },
  {
   "cell_type": "code",
   "execution_count": 350,
   "metadata": {
    "ExecuteTime": {
     "end_time": "2021-11-15T10:52:49.355253Z",
     "start_time": "2021-11-15T10:52:45.834673Z"
    }
   },
   "outputs": [],
   "source": [
    "selected_list = [(\"KRW-BTC\", 5, 3),\n",
    "                 (\"KRW-ETH\", 5, 3),\n",
    "                 (\"KRW-XRP\", 5, 3),\n",
    "                 (\"KRW-ETC\", 5, 3),\n",
    "                 (\"KRW-ADA\", 5, 3)]\n",
    "\n",
    "selected_list_df = get_selected_df_backtest(selected_list, \"2021-11-09\", 365)"
   ]
  },
  {
   "cell_type": "code",
   "execution_count": 351,
   "metadata": {
    "ExecuteTime": {
     "end_time": "2021-11-15T10:53:05.908428Z",
     "start_time": "2021-11-15T10:53:05.696588Z"
    },
    "scrolled": true
   },
   "outputs": [
    {
     "name": "stderr",
     "output_type": "stream",
     "text": [
      "No handles with labels found to put in legend.\n"
     ]
    },
    {
     "data": {
      "image/png": "[encoded data removed]",
      "text/plain": [
       "<Figure size 1440x576 with 1 Axes>"
      ]
     },
     "metadata": {
      "needs_background": "light"
     },
     "output_type": "display_data"
    }
   ],
   "source": [
    "df_merge = merge_df(selected_list_df)\n",
    "visualize_merge_df(df_merge)"
   ]
  },
  {
   "cell_type": "code",
   "execution_count": null,
   "metadata": {},
   "outputs": [],
   "source": [
    "params = [(3, 2), (4, 2), (5, 3), (7, 4), (10, 5), (14, 7), (20, 10), (30, 15), (40, 20)]\n",
    "result = turtle_backtest(\"KRW-XRP\", \"2021-11-09\", 100, params)\n",
    "\n",
    "for idx, param in enumerate(result):\n",
    "    print(idx, \": \", param[0])"
   ]
  }
 ],
 "metadata": {
  "hide_input": false,
  "kernelspec": {
   "display_name": "Python 3",
   "language": "python",
   "name": "python3"
  },
  "language_info": {
   "codemirror_mode": {
    "name": "ipython",
    "version": 3
   },
   "file_extension": ".py",
   "mimetype": "text/x-python",
   "name": "python",
   "nbconvert_exporter": "python",
   "pygments_lexer": "ipython3",
   "version": "3.8.5"
  },
  "toc": {
   "base_numbering": 1,
   "nav_menu": {},
   "number_sections": true,
   "sideBar": true,
   "skip_h1_title": false,
   "title_cell": "Table of Contents",
   "title_sidebar": "Contents",
   "toc_cell": false,
   "toc_position": {},
   "toc_section_display": true,
   "toc_window_display": false
  },
  "varInspector": {
   "cols": {
    "lenName": 16,
    "lenType": 16,
    "lenVar": 40
   },
   "kernels_config": {
    "python": {
     "delete_cmd_postfix": "",
     "delete_cmd_prefix": "del ",
     "library": "var_list.py",
     "varRefreshCmd": "print(var_dic_list())"
    },
    "r": {
     "delete_cmd_postfix": ") ",
     "delete_cmd_prefix": "rm(",
     "library": "var_list.r",
     "varRefreshCmd": "cat(var_dic_list()) "
    }
   },
   "types_to_exclude": [
    "module",
    "function",
    "builtin_function_or_method",
    "instance",
    "_Feature"
   ],
   "window_display": false
  }
 },
 "nbformat": 4,
 "nbformat_minor": 4
}
