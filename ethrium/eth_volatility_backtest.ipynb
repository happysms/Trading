{
 "cells": [
  {
   "cell_type": "code",
   "execution_count": null,
   "metadata": {
    "ExecuteTime": {
     "end_time": "2021-09-20T15:28:20.352712Z",
     "start_time": "2021-09-20T15:28:19.557605Z"
    }
   },
   "outputs": [],
   "source": [
    "import time\n",
    "import pyupbit\n",
    "import requests\n",
    "import pandas as pd\n",
    "import numpy as np\n",
    "import matplotlib.pyplot as plt"
   ]
  },
  {
   "cell_type": "code",
   "execution_count": null,
   "metadata": {
    "ExecuteTime": {
     "end_time": "2021-09-20T15:28:20.364992Z",
     "start_time": "2021-09-20T15:28:20.355798Z"
    }
   },
   "outputs": [],
   "source": [
    "# backtest & bestK\n",
    "\n",
    "def volatility(df, k):\n",
    "    \"\"\"변동성 돌파 전략\"\"\"\n",
    "    df['range'] = (df['high'] - df['low']) * k\n",
    "    df['target'] = df['open'] + df['range'].shift(1)\n",
    "    df['ror'] = np.where(df['high'] > df['target'],\n",
    "                df['close'] / df['target'] - 0.001,\n",
    "                1)\n",
    "    df['crr'] = df['ror'].cumprod() # cumulative return rate\n",
    "    df['dr'] = df['close'] / df['open'] # daily return rate\n",
    "    df['cdr'] = df['dr'].cumprod() # cumulative daily return rate\n",
    "    df['mdd'] = (df['crr'].cummax() - df['crr']) / df['crr'].cummax() * 100 # 가장 높은 손익에서 최악의 손익을 뼴: mdd\n",
    "#     df = df.dropna(axis=0)\n",
    "\n",
    "    return df\n",
    "\n",
    "def visualize_return_rate(df, name):\n",
    "    \"\"\"전략 적용&미적용 수익률 그래프\"\"\"\n",
    "    plt.figure(figsize = (20, 8))\n",
    "    plt.plot(df.index, df['crr']*100, color = 'g', label = name)\n",
    "    plt.plot(df.index, df['cdr']*100, color = 'k', linestyle = '--')\n",
    "    plt.legend(loc='best')\n",
    "    plt.title(f\"{name} mdd: {round(df['mdd'].max(), 2)} return_rate: {round(df['crr'].iloc[-1] * 100 - 100, 2)}%\")\n",
    "    plt.ylabel(\"rate of return\")\n",
    "    plt.grid(True)\n",
    "    \n",
    "def compare_k(df):\n",
    "    \"\"\"k값 비교\"\"\"\n",
    "    for k in np.arange(0.1, 0.7, 0.1):\n",
    "        yield (volatility(df, k), k)\n",
    "        \n",
    "def print_compare_k(df):\n",
    "    \"\"\"비교 k 값 출력\"\"\"\n",
    "    for df, k in compare_k(df):\n",
    "        print(round(k, 1),\" : \", df['crr'].iloc[-1] * 100)"
   ]
  },
  {
   "cell_type": "code",
   "execution_count": null,
   "metadata": {
    "ExecuteTime": {
     "end_time": "2021-09-20T15:28:20.784245Z",
     "start_time": "2021-09-20T15:28:20.370721Z"
    }
   },
   "outputs": [],
   "source": [
    "# 상승장 2021-07-20 ~ 2021-09-04  (k = 0.4)\n",
    "rise_df = pyupbit.get_ohlcv(\"KRW-ETH\", to=\"2021-09-04\", count=46)\n",
    "\n",
    "rise_df = volatility(rise_df, 0.4)\n",
    "\n",
    "visualize_return_rate(rise_df, \"KRW-ETH\")\n",
    "\n",
    "print_compare_k(rise_df) "
   ]
  },
  {
   "cell_type": "code",
   "execution_count": null,
   "metadata": {
    "ExecuteTime": {
     "end_time": "2021-09-20T15:28:21.115699Z",
     "start_time": "2021-09-20T15:28:20.786478Z"
    }
   },
   "outputs": [],
   "source": [
    "# 하락장 2021-5-11 ~ 2021-6-26\n",
    "\n",
    "drop_df = pyupbit.get_ohlcv(\"KRW-ETH\", to=\"2021-06-27\", count=46)\n",
    "\n",
    "drop_df = volatility(drop_df, 0.4)\n",
    "\n",
    "visualize_return_rate(drop_df, \"KRW-ETH\")\n",
    "\n",
    "print_compare_k(drop_df) "
   ]
  },
  {
   "cell_type": "code",
   "execution_count": null,
   "metadata": {
    "ExecuteTime": {
     "end_time": "2021-09-20T15:28:21.486467Z",
     "start_time": "2021-09-20T15:28:21.117937Z"
    }
   },
   "outputs": [],
   "source": [
    "# 횡보장 2021-06-01 ~ 2021-07-20\n",
    "sideway_df = pyupbit.get_ohlcv(\"KRW-ETH\", to=\"2020-07-21\", count=49)\n",
    "\n",
    "sideway_df = volatility(sideway_df, 0.4)\n",
    "\n",
    "visualize_return_rate(sideway_df, \"KRW-ETH\")\n",
    "\n",
    "print_compare_k(sideway_df) "
   ]
  },
  {
   "cell_type": "code",
   "execution_count": null,
   "metadata": {
    "ExecuteTime": {
     "end_time": "2021-09-20T15:28:21.860549Z",
     "start_time": "2021-09-20T15:28:21.491517Z"
    },
    "scrolled": false
   },
   "outputs": [],
   "source": [
    "# 변동장 2021-04-23 ~ 2021-05-23\n",
    "\n",
    "fluctuate_df = pyupbit.get_ohlcv(\"KRW-ETH\", to=\"2021-05-24\", count=31)\n",
    "\n",
    "fluctuate_df = volatility(fluctuate_df, 0.4)\n",
    "\n",
    "visualize_return_rate(fluctuate_df, \"KRW-ETH\")\n",
    "\n",
    "print_compare_k(fluctuate_df) "
   ]
  }
 ],
 "metadata": {
  "hide_input": false,
  "kernelspec": {
   "display_name": "Python 3",
   "language": "python",
   "name": "python3"
  },
  "language_info": {
   "codemirror_mode": {
    "name": "ipython",
    "version": 3
   },
   "file_extension": ".py",
   "mimetype": "text/x-python",
   "name": "python",
   "nbconvert_exporter": "python",
   "pygments_lexer": "ipython3",
   "version": "3.8.5"
  },
  "toc": {
   "base_numbering": 1,
   "nav_menu": {},
   "number_sections": true,
   "sideBar": true,
   "skip_h1_title": false,
   "title_cell": "Table of Contents",
   "title_sidebar": "Contents",
   "toc_cell": false,
   "toc_position": {},
   "toc_section_display": true,
   "toc_window_display": false
  },
  "varInspector": {
   "cols": {
    "lenName": 16,
    "lenType": 16,
    "lenVar": 40
   },
   "kernels_config": {
    "python": {
     "delete_cmd_postfix": "",
     "delete_cmd_prefix": "del ",
     "library": "var_list.py",
     "varRefreshCmd": "print(var_dic_list())"
    },
    "r": {
     "delete_cmd_postfix": ") ",
     "delete_cmd_prefix": "rm(",
     "library": "var_list.r",
     "varRefreshCmd": "cat(var_dic_list()) "
    }
   },
   "types_to_exclude": [
    "module",
    "function",
    "builtin_function_or_method",
    "instance",
    "_Feature"
   ],
   "window_display": false
  }
 },
 "nbformat": 4,
 "nbformat_minor": 4
}
