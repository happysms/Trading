{
 "cells": [
  {
   "cell_type": "code",
   "execution_count": 1,
   "metadata": {
    "ExecuteTime": {
     "end_time": "2021-09-14T15:31:39.211996Z",
     "start_time": "2021-09-14T15:31:38.727945Z"
    }
   },
   "outputs": [],
   "source": [
    "import pyupbit\n",
    "import time\n",
    "from datetime import datetime, timedelta\n",
    "from pytz import timezone, utc\n",
    "import pandas as pd\n",
    "import matplotlib as mpl\n",
    "import matplotlib.pyplot as plt\n",
    "from tqdm import trange, notebook\n",
    "\n",
    "pd.options.display.max_rows = 1440\n",
    "\n",
    "KST = timezone('Asia/Seoul')\n",
    "date = KST.localize(datetime.now())\n",
    "yesterday = date - timedelta(1)\n",
    "yesterday = yesterday.strftime(\"%Y-%m-%d\")\n",
    "today = (KST.localize(datetime.now())).strftime(\"%Y-%m-%d\")\n",
    "\n",
    "\n",
    "def get_rate(p1, p2):\n",
    "    return round(((p1/p2 - 1) * 100), 2)\n",
    "\n",
    "def date_range(start, end):\n",
    "    start = datetime.strptime(start, \"%Y-%m-%d\")\n",
    "    end = datetime.strptime(end, \"%Y-%m-%d\")\n",
    "    dates = [(start + timedelta(days=i)).strftime(\"%Y-%m-%d\") for i in range((end-start).days+1)]\n",
    "    return dates\n",
    "\n",
    "def get_pick_coins(date):\n",
    "    coins = pyupbit.get_tickers(fiat=\"KRW\")\n",
    "    coins_rate = []\n",
    "    for coin in coins:\n",
    "        coin_price = pyupbit.get_ohlcv(coin, date, count=1)\n",
    "        time.sleep(0.1)\n",
    "        open_price = coin_price.open.values[0]\n",
    "        close_price = coin_price.close.values[0]\n",
    "        coin_rate = get_rate(close_price, open_price)\n",
    "        coins_rate.append([date, coin, coin_rate, \"\"])\n",
    "\n",
    "    picked_coins = sorted(coins_rate, key = lambda x : -x[2])[0:5]\n",
    "    return picked_coins\n"
   ]
  },
  {
   "cell_type": "code",
   "execution_count": null,
   "metadata": {
    "ExecuteTime": {
     "start_time": "2021-09-14T15:28:58.031Z"
    }
   },
   "outputs": [],
   "source": [
    "columns = [\"날짜\", \"코인명\",\"전날 등락률\", \"1분\", \"2분\", \"3분\", \"4분\", \"5분\", \"고가\", \"종가\"]\n",
    "\n",
    "# df = pd.DataFrame(data, columns=columns)\n",
    "df.to_csv('price.csv')\n",
    "\n"
   ]
  },
  {
   "cell_type": "code",
   "execution_count": null,
   "metadata": {
    "ExecuteTime": {
     "start_time": "2021-09-14T15:28:58.034Z"
    }
   },
   "outputs": [],
   "source": [
    "df = pd.read_csv(\"price.csv\")\n"
   ]
  },
  {
   "cell_type": "code",
   "execution_count": null,
   "metadata": {
    "ExecuteTime": {
     "start_time": "2021-09-14T15:28:58.036Z"
    }
   },
   "outputs": [],
   "source": [
    "df['1분'] = np.where(df['1분'] < -3, -3, df['1분'])\n",
    "df['2분'] = np.where(df['2분'] < -3, -3, df['2분'])\n",
    "df['3분'] = np.where(df['3분'] < -3, -3, df['3분'])\n",
    "df['4분'] = np.where(df['4분'] < -3, -3, df['4분'])\n",
    "df['5분'] = np.where(df['5분'] < -3, -3, df['5분'])\n",
    "df['종가'] = np.where(df['종가'] < -3, -3, df['종가'])\n",
    "df['수정종가'] = np.where(((df['1분'] > -3)&(df['2분'] > -3)&(df['3분'] > -3)&(df['4분'] > -3)&(df['5분'] > -3)), df['종가'], -3)\n",
    "df['고가'] = np.where(df['고가'] < -3, -3, df['고가'])\n",
    "df['수정고가'] = np.where(((df['1분'] > -3)&(df['2분'] > -3)&(df['3분'] > -3)&(df['4분'] > -3)&(df['5분'] > -3)), df['고가'], 0)"
   ]
  },
  {
   "cell_type": "code",
   "execution_count": null,
   "metadata": {
    "ExecuteTime": {
     "start_time": "2021-09-14T15:28:58.038Z"
    }
   },
   "outputs": [],
   "source": [
    "plt.figure(figsize = (20, 10))\n",
    "plt.grid()\n",
    "plt.plot(df.index, df['1분'], color='b')\n",
    "plt.show()"
   ]
  },
  {
   "cell_type": "code",
   "execution_count": null,
   "metadata": {},
   "outputs": [],
   "source": []
  },
  {
   "cell_type": "code",
   "execution_count": null,
   "metadata": {
    "ExecuteTime": {
     "start_time": "2021-09-14T15:28:58.042Z"
    }
   },
   "outputs": [],
   "source": [
    "plt.figure(figsize = (20, 10))\n",
    "plt.grid()\n",
    "plt.plot(df.index, df['5분'], color='r')\n",
    "plt.show()"
   ]
  },
  {
   "cell_type": "code",
   "execution_count": null,
   "metadata": {
    "ExecuteTime": {
     "start_time": "2021-09-14T15:28:58.044Z"
    }
   },
   "outputs": [],
   "source": [
    "plt.figure(figsize = (20, 10))\n",
    "plt.grid()\n",
    "plt.plot(df.index, df['종가'], color=\"g\")\n",
    "plt.show()"
   ]
  },
  {
   "cell_type": "code",
   "execution_count": null,
   "metadata": {
    "ExecuteTime": {
     "start_time": "2021-09-14T15:28:58.046Z"
    }
   },
   "outputs": [],
   "source": [
    "plt.figure(figsize = (20, 10))\n",
    "plt.grid()\n",
    "plt.plot(df.index, df['고가'], color=\"g\")\n",
    "plt.show()"
   ]
  },
  {
   "cell_type": "code",
   "execution_count": null,
   "metadata": {
    "ExecuteTime": {
     "start_time": "2021-09-14T15:28:58.048Z"
    }
   },
   "outputs": [],
   "source": [
    "plt.figure(figsize = (20, 10))\n",
    "plt.grid()\n",
    "plt.plot(df.index, df['수정고가'], color=\"g\")\n",
    "plt.show()"
   ]
  },
  {
   "cell_type": "code",
   "execution_count": null,
   "metadata": {
    "ExecuteTime": {
     "end_time": "2021-09-14T00:46:37.554164Z",
     "start_time": "2021-09-14T00:46:37.392804Z"
    }
   },
   "outputs": [],
   "source": []
  },
  {
   "cell_type": "code",
   "execution_count": null,
   "metadata": {
    "ExecuteTime": {
     "start_time": "2021-09-14T15:28:58.051Z"
    }
   },
   "outputs": [],
   "source": [
    "# 매도 알고리즘\n",
    "##### 폭락장에서는 사지 않는다. \n",
    "\n",
    "# -3퍼 아래 손절\n",
    "# 저가 low가 -3퍼 아래 손절\n",
    "# 저가가 고가보다 빠른 시간에 형성될 경우 -3퍼로 계산\n",
    "# 경우1: -3퍼가 형성되기 이전에 10% 일 경우 절반 5퍼 + 50% 넘어갈 경우 전량매도 -> 37퍼\n",
    "# 경우2: -3퍼가 형성되기 이전에 10% 절반 익절 후 0퍼 수익률로 갔을 경우 -> 5퍼\n",
    "# 경우3: -3퍼까지 가지 않았으며 10% 아래 + 수익률일 경우 -> 그날의 종가 수익률 -> 5퍼 + 5.5 * 종가 수익률 \n",
    "# 경우4: -3퍼가 형성되기 이전에 10% 절반 익절 후 0퍼 수익률로 가지 않을 경우 -> 그날의 종가 수익률\n",
    "\n",
    "\n",
    "# 경우5(고려 사항): 특정 시간 이후로 -3%까지는 아니지만 - 수익률일 경우 절반 손절\n",
    "5 - 3 => 2\n",
    "coin_data 5 \n",
    "110 -> 55 -> 47"
   ]
  },
  {
   "cell_type": "code",
   "execution_count": 30,
   "metadata": {
    "ExecuteTime": {
     "end_time": "2021-09-14T16:04:50.720064Z",
     "start_time": "2021-09-14T16:04:50.667799Z"
    }
   },
   "outputs": [
    {
     "ename": "ValueError",
     "evalue": "The truth value of a Series is ambiguous. Use a.empty, a.bool(), a.item(), a.any() or a.all().",
     "output_type": "error",
     "traceback": [
      "\u001b[0;31m---------------------------------------------------------------------------\u001b[0m",
      "\u001b[0;31mValueError\u001b[0m                                Traceback (most recent call last)",
      "\u001b[0;32m<ipython-input-30-e4a73b1fdf65>\u001b[0m in \u001b[0;36m<module>\u001b[0;34m\u001b[0m\n\u001b[1;32m     10\u001b[0m         \u001b[0mcheck\u001b[0m \u001b[0;34m=\u001b[0m \u001b[0;34m\"\"\u001b[0m\u001b[0;34m\u001b[0m\u001b[0;34m\u001b[0m\u001b[0m\n\u001b[1;32m     11\u001b[0m         \u001b[0;32mfor\u001b[0m \u001b[0mj\u001b[0m \u001b[0;32min\u001b[0m \u001b[0mrange\u001b[0m\u001b[0;34m(\u001b[0m\u001b[0;36m1440\u001b[0m\u001b[0;34m)\u001b[0m\u001b[0;34m:\u001b[0m\u001b[0;34m\u001b[0m\u001b[0;34m\u001b[0m\u001b[0m\n\u001b[0;32m---> 12\u001b[0;31m             \u001b[0;32mif\u001b[0m \u001b[0mget_rate\u001b[0m\u001b[0;34m(\u001b[0m\u001b[0mjob_coin\u001b[0m\u001b[0;34m[\u001b[0m\u001b[0midx\u001b[0m\u001b[0;34m]\u001b[0m\u001b[0;34m[\u001b[0m\u001b[0mj\u001b[0m\u001b[0;34m]\u001b[0m\u001b[0;34m[\u001b[0m\u001b[0;34m\"low\"\u001b[0m\u001b[0;34m]\u001b[0m\u001b[0;34m,\u001b[0m \u001b[0mjob_coin\u001b[0m\u001b[0;34m[\u001b[0m\u001b[0midx\u001b[0m\u001b[0;34m]\u001b[0m\u001b[0;34m[\u001b[0m\u001b[0;36m1440\u001b[0m \u001b[0;34m*\u001b[0m \u001b[0mi\u001b[0m\u001b[0;34m]\u001b[0m\u001b[0;34m[\u001b[0m\u001b[0;34m\"open\"\u001b[0m\u001b[0;34m]\u001b[0m\u001b[0;34m)\u001b[0m \u001b[0;34m<=\u001b[0m \u001b[0;34m-\u001b[0m\u001b[0;36m3\u001b[0m\u001b[0;34m:\u001b[0m\u001b[0;34m\u001b[0m\u001b[0;34m\u001b[0m\u001b[0m\n\u001b[0m\u001b[1;32m     13\u001b[0m                 \u001b[0mdata\u001b[0m\u001b[0;34m[\u001b[0m\u001b[0;36m2\u001b[0m\u001b[0;34m]\u001b[0m \u001b[0;34m=\u001b[0m \u001b[0;34m-\u001b[0m\u001b[0;36m3\u001b[0m \u001b[0;31m# 손절\u001b[0m\u001b[0;34m\u001b[0m\u001b[0;34m\u001b[0m\u001b[0m\n\u001b[1;32m     14\u001b[0m                 \u001b[0;32mbreak\u001b[0m\u001b[0;34m\u001b[0m\u001b[0;34m\u001b[0m\u001b[0m\n",
      "\u001b[0;32m/opt/anaconda3/lib/python3.8/site-packages/pandas/core/generic.py\u001b[0m in \u001b[0;36m__nonzero__\u001b[0;34m(self)\u001b[0m\n\u001b[1;32m   1327\u001b[0m \u001b[0;34m\u001b[0m\u001b[0m\n\u001b[1;32m   1328\u001b[0m     \u001b[0;32mdef\u001b[0m \u001b[0m__nonzero__\u001b[0m\u001b[0;34m(\u001b[0m\u001b[0mself\u001b[0m\u001b[0;34m)\u001b[0m\u001b[0;34m:\u001b[0m\u001b[0;34m\u001b[0m\u001b[0;34m\u001b[0m\u001b[0m\n\u001b[0;32m-> 1329\u001b[0;31m         raise ValueError(\n\u001b[0m\u001b[1;32m   1330\u001b[0m             \u001b[0;34mf\"The truth value of a {type(self).__name__} is ambiguous. \"\u001b[0m\u001b[0;34m\u001b[0m\u001b[0;34m\u001b[0m\u001b[0m\n\u001b[1;32m   1331\u001b[0m             \u001b[0;34m\"Use a.empty, a.bool(), a.item(), a.any() or a.all().\"\u001b[0m\u001b[0;34m\u001b[0m\u001b[0;34m\u001b[0m\u001b[0m\n",
      "\u001b[0;31mValueError\u001b[0m: The truth value of a Series is ambiguous. Use a.empty, a.bool(), a.item(), a.any() or a.all()."
     ]
    }
   ],
   "source": [
    "coin_cnt = 0\n",
    "coin_analysis = [] # 날짜, 코인명, 수익률 \n",
    "job_coin = data\n",
    "fff = coin_data\n",
    "\n",
    "for idx, date in enumerate(dates):\n",
    "    for i in range(5): # 5개의 코인 하루치 데이터 탐색\n",
    "        name = fff[idx][i][1]\n",
    "        data = [date, name, 0]\n",
    "        check = \"\"\n",
    "        for j in range(1440):\n",
    "            if get_rate(job_coin[idx][j][\"low\"], job_coin[idx][1440 * i][\"open\"]) <= -3:\n",
    "                data[2] = -3 # 손절\n",
    "                break\n",
    "                \n",
    "            elif get_rate(job_coin[idx][j][\"high\"], job_coin[idx][1440 * i][\"open\"]) > 10:\n",
    "                check = \"half\" \n",
    "            \n",
    "            elif check == \"half\" and get_rate(job_coin[idx][j][\"low\"], job_coin[idx][1440 * i][\"open\"]) <= 0:\n",
    "                data[2] = 5  # 경우 2\n",
    "                break\n",
    "            \n",
    "            elif check == \"half\" and get_rate(job_coin[idx][j][\"high\"], job_coin[idx][1440 * i][\"open\"]) > 50:\n",
    "                data[2] = 37 # 경우 1\n",
    "                break\n",
    "        \n",
    "        if check == \"half\": # 경우 3\n",
    "            data[2] = 5 + 0.55 * get_rate(job_coin[idx][1439 + (1440*idx)][\"close\"], job_coin[idx][1440 * i][\"open\"])\n",
    "        else: # 경우 4\n",
    "            data[2] = get_rate(job_coin[idx][1439 + (1440*idx)][\"close\"], job_coin[coin_cnt][\"open\"][0])\n",
    "        coin_cnt += 1          \n",
    "        coin_analysis.append(data)\n",
    "            "
   ]
  },
  {
   "cell_type": "code",
   "execution_count": null,
   "metadata": {
    "ExecuteTime": {
     "start_time": "2021-09-14T15:28:58.055Z"
    }
   },
   "outputs": [],
   "source": [
    "fff"
   ]
  },
  {
   "cell_type": "code",
   "execution_count": null,
   "metadata": {
    "ExecuteTime": {
     "start_time": "2021-09-14T15:28:58.058Z"
    }
   },
   "outputs": [],
   "source": [
    "data[1]"
   ]
  },
  {
   "cell_type": "code",
   "execution_count": 5,
   "metadata": {
    "ExecuteTime": {
     "end_time": "2021-09-14T15:33:15.136711Z",
     "start_time": "2021-09-14T15:33:15.134609Z"
    }
   },
   "outputs": [],
   "source": []
  },
  {
   "cell_type": "code",
   "execution_count": 4,
   "metadata": {
    "ExecuteTime": {
     "end_time": "2021-09-14T15:32:59.826591Z",
     "start_time": "2021-09-14T15:32:59.824788Z"
    }
   },
   "outputs": [],
   "source": [
    "sss = data"
   ]
  },
  {
   "cell_type": "code",
   "execution_count": 3,
   "metadata": {
    "ExecuteTime": {
     "end_time": "2021-09-14T15:32:48.913592Z",
     "start_time": "2021-09-14T15:32:48.911233Z"
    }
   },
   "outputs": [],
   "source": [
    "ddd = data"
   ]
  },
  {
   "cell_type": "code",
   "execution_count": 24,
   "metadata": {
    "ExecuteTime": {
     "end_time": "2021-09-14T15:59:12.967996Z",
     "start_time": "2021-09-14T15:58:45.618954Z"
    }
   },
   "outputs": [
    {
     "data": {
      "application/vnd.jupyter.widget-view+json": {
       "model_id": "50ab7280435d447d8d6f200846ae6f93",
       "version_major": 2,
       "version_minor": 0
      },
      "text/plain": [
       "HBox(children=(HTML(value=''), FloatProgress(value=0.0, max=1.0), HTML(value='')))"
      ]
     },
     "metadata": {},
     "output_type": "display_data"
    },
    {
     "name": "stdout",
     "output_type": "stream",
     "text": [
      "\n"
     ]
    }
   ],
   "source": [
    "coins = pyupbit.get_tickers(fiat=\"KRW\")\n",
    "data = []\n",
    "dates = date_range(\"2021-09-11\", yesterday)\n",
    "coin_data = []\n",
    "for idx in notebook.tqdm(range(1, len(dates) - 2)):\n",
    "    coins = get_pick_coins(dates[idx])\n",
    "    coin_data.append(coins)\n",
    "    row = []\n",
    "    for coin in coins:\n",
    "        minute_data = pyupbit.get_ohlcv(coin[1], to=f\"{dates[idx + 2]} 09:00:00\", interval=\"minute1\", count=1440)\n",
    "        time.sleep(1)\n",
    "        row.append(minute_data)\n",
    "        \n",
    "    data.append(row)\n",
    "    "
   ]
  },
  {
   "cell_type": "code",
   "execution_count": null,
   "metadata": {
    "ExecuteTime": {
     "start_time": "2021-09-14T15:28:58.070Z"
    }
   },
   "outputs": [],
   "source": [
    "coins_rate.append([date, coin, coin_rate, \"\"])"
   ]
  },
  {
   "cell_type": "code",
   "execution_count": null,
   "metadata": {
    "ExecuteTime": {
     "start_time": "2021-09-14T15:28:58.072Z"
    }
   },
   "outputs": [],
   "source": [
    "coins = get_pick_coins(\"2021-09-12\")"
   ]
  },
  {
   "cell_type": "code",
   "execution_count": null,
   "metadata": {
    "ExecuteTime": {
     "start_time": "2021-09-14T15:28:58.074Z"
    }
   },
   "outputs": [],
   "source": [
    "coin_data = pyupbit.get_ohlcv(\"KRW-XRP\", to=\"2021-09-14 09:00:00\", interval=\"minute1\", count=1440)\n",
    "coin_data"
   ]
  },
  {
   "cell_type": "code",
   "execution_count": null,
   "metadata": {
    "ExecuteTime": {
     "start_time": "2021-09-14T15:28:58.076Z"
    }
   },
   "outputs": [],
   "source": [
    "coins"
   ]
  },
  {
   "cell_type": "code",
   "execution_count": null,
   "metadata": {
    "ExecuteTime": {
     "start_time": "2021-09-14T15:28:58.078Z"
    }
   },
   "outputs": [],
   "source": [
    "max(coin_data.high)\n",
    "min(coin_data.low)"
   ]
  },
  {
   "cell_type": "code",
   "execution_count": null,
   "metadata": {
    "ExecuteTime": {
     "start_time": "2021-09-14T15:28:58.080Z"
    }
   },
   "outputs": [],
   "source": [
    "# 9월 12"
   ]
  },
  {
   "cell_type": "code",
   "execution_count": null,
   "metadata": {
    "ExecuteTime": {
     "start_time": "2021-09-14T15:28:58.081Z"
    }
   },
   "outputs": [],
   "source": [
    "coin = pyupbit.get_ohlcv(\"KRW-XRP\", to=\"2021-09-13\", count=1)"
   ]
  },
  {
   "cell_type": "code",
   "execution_count": null,
   "metadata": {
    "ExecuteTime": {
     "start_time": "2021-09-14T15:28:58.084Z"
    }
   },
   "outputs": [],
   "source": [
    "coin_data = pd.DataFrame(coin_data)\n",
    "coin_data = coin_data.values.tolist()"
   ]
  },
  {
   "cell_type": "code",
   "execution_count": null,
   "metadata": {
    "ExecuteTime": {
     "start_time": "2021-09-14T15:28:58.086Z"
    }
   },
   "outputs": [],
   "source": [
    "coin_data"
   ]
  },
  {
   "cell_type": "code",
   "execution_count": null,
   "metadata": {
    "ExecuteTime": {
     "end_time": "2021-09-14T14:21:26.573758Z",
     "start_time": "2021-09-14T14:21:26.561002Z"
    }
   },
   "outputs": [],
   "source": []
  },
  {
   "cell_type": "code",
   "execution_count": null,
   "metadata": {
    "ExecuteTime": {
     "start_time": "2021-09-14T15:28:58.091Z"
    }
   },
   "outputs": [],
   "source": [
    "ddd[0][0][1]"
   ]
  },
  {
   "cell_type": "code",
   "execution_count": null,
   "metadata": {
    "ExecuteTime": {
     "start_time": "2021-09-14T15:28:58.093Z"
    }
   },
   "outputs": [],
   "source": [
    "24 * 60 * 60"
   ]
  },
  {
   "cell_type": "code",
   "execution_count": 12,
   "metadata": {
    "ExecuteTime": {
     "end_time": "2021-09-14T15:37:37.232325Z",
     "start_time": "2021-09-14T15:37:37.229462Z"
    },
    "scrolled": false
   },
   "outputs": [
    {
     "data": {
      "text/plain": [
       "1440"
      ]
     },
     "execution_count": 12,
     "metadata": {},
     "output_type": "execute_result"
    }
   ],
   "source": [
    "len(data[0])"
   ]
  },
  {
   "cell_type": "code",
   "execution_count": 14,
   "metadata": {
    "ExecuteTime": {
     "end_time": "2021-09-14T15:40:16.956979Z",
     "start_time": "2021-09-14T15:40:16.953220Z"
    }
   },
   "outputs": [
    {
     "data": {
      "text/plain": [
       "7200"
      ]
     },
     "execution_count": 14,
     "metadata": {},
     "output_type": "execute_result"
    }
   ],
   "source": [
    "1440 * 5"
   ]
  },
  {
   "cell_type": "code",
   "execution_count": 27,
   "metadata": {
    "ExecuteTime": {
     "end_time": "2021-09-14T16:02:21.347670Z",
     "start_time": "2021-09-14T16:02:21.342911Z"
    },
    "scrolled": false
   },
   "outputs": [
    {
     "data": {
      "text/plain": [
       "1440"
      ]
     },
     "execution_count": 27,
     "metadata": {},
     "output_type": "execute_result"
    }
   ],
   "source": [
    "len(data[0][0])"
   ]
  },
  {
   "cell_type": "code",
   "execution_count": null,
   "metadata": {},
   "outputs": [],
   "source": []
  },
  {
   "cell_type": "code",
   "execution_count": null,
   "metadata": {},
   "outputs": [],
   "source": []
  },
  {
   "cell_type": "code",
   "execution_count": null,
   "metadata": {},
   "outputs": [],
   "source": []
  },
  {
   "cell_type": "code",
   "execution_count": null,
   "metadata": {},
   "outputs": [],
   "source": []
  },
  {
   "cell_type": "code",
   "execution_count": null,
   "metadata": {},
   "outputs": [],
   "source": []
  }
 ],
 "metadata": {
  "hide_input": false,
  "kernelspec": {
   "display_name": "Python 3",
   "language": "python",
   "name": "python3"
  },
  "language_info": {
   "codemirror_mode": {
    "name": "ipython",
    "version": 3
   },
   "file_extension": ".py",
   "mimetype": "text/x-python",
   "name": "python",
   "nbconvert_exporter": "python",
   "pygments_lexer": "ipython3",
   "version": "3.8.5"
  },
  "toc": {
   "base_numbering": 1,
   "nav_menu": {},
   "number_sections": true,
   "sideBar": true,
   "skip_h1_title": false,
   "title_cell": "Table of Contents",
   "title_sidebar": "Contents",
   "toc_cell": false,
   "toc_position": {},
   "toc_section_display": true,
   "toc_window_display": false
  },
  "varInspector": {
   "cols": {
    "lenName": 16,
    "lenType": 16,
    "lenVar": 40
   },
   "kernels_config": {
    "python": {
     "delete_cmd_postfix": "",
     "delete_cmd_prefix": "del ",
     "library": "var_list.py",
     "varRefreshCmd": "print(var_dic_list())"
    },
    "r": {
     "delete_cmd_postfix": ") ",
     "delete_cmd_prefix": "rm(",
     "library": "var_list.r",
     "varRefreshCmd": "cat(var_dic_list()) "
    }
   },
   "types_to_exclude": [
    "module",
    "function",
    "builtin_function_or_method",
    "instance",
    "_Feature"
   ],
   "window_display": false
  }
 },
 "nbformat": 4,
 "nbformat_minor": 4
}
